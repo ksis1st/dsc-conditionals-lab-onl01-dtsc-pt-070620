{
 "cells": [
  {
   "cell_type": "markdown",
   "metadata": {},
   "source": [
    "# Control Flow: Conditionals - Lab\n",
    "\n",
    "## Introduction\n",
    "Now that you have been introduced to conditionals, let's put your knowledge to test and create some conditional statements that selectively assign values to variables based on whether they pass the conditions we set.\n",
    "\n",
    "## Objectives\n",
    "You will be able to:\n",
    "* Use Python conditional statements\n",
    "\n",
    "## Instructions\n",
    "\n",
    "Let's use our knowledge of variables and conditionals to assign values based on different conditions. Follow the instructions below to properly assign the values.\n",
    "\n",
    "With the given code in the cell below, use what you know about numbers and conditionals to assign a value to `my_number` and follow the directions given in the comments below. Use this as a guide to structuring the rest of the problems in this lab."
   ]
  },
  {
   "cell_type": "code",
   "execution_count": 3,
   "metadata": {
    "ExecuteTime": {
     "end_time": "2020-07-15T09:50:27.268821Z",
     "start_time": "2020-07-15T09:50:27.260806Z"
    }
   },
   "outputs": [
    {
     "name": "stdout",
     "output_type": "stream",
     "text": [
      "x is great\n"
     ]
    }
   ],
   "source": [
    "x = 10\n",
    "if x>5:\n",
    "    print('x is great')\n",
    "else:\n",
    "    print('x is great , but of a smaller value')"
   ]
  },
  {
   "cell_type": "code",
   "execution_count": 4,
   "metadata": {
    "ExecuteTime": {
     "end_time": "2020-07-15T09:50:42.349120Z",
     "start_time": "2020-07-15T09:50:42.341124Z"
    }
   },
   "outputs": [
    {
     "name": "stdout",
     "output_type": "stream",
     "text": [
      "x is great , but of a smaller value\n"
     ]
    }
   ],
   "source": [
    "x = 5\n",
    "if x>5:\n",
    "    print('x is great')\n",
    "else:\n",
    "    print('x is great , but of a smaller value')"
   ]
  },
  {
   "cell_type": "code",
   "execution_count": 5,
   "metadata": {
    "ExecuteTime": {
     "end_time": "2020-07-15T09:51:57.382514Z",
     "start_time": "2020-07-15T09:51:57.374514Z"
    }
   },
   "outputs": [
    {
     "name": "stdout",
     "output_type": "stream",
     "text": [
      "x is great\n"
     ]
    }
   ],
   "source": [
    "x = 10\n",
    "if x>5:\n",
    "    print('x is great')\n",
    "else:\n",
    "    x=100    \n",
    "    print(x)"
   ]
  },
  {
   "cell_type": "code",
   "execution_count": 6,
   "metadata": {
    "ExecuteTime": {
     "end_time": "2020-07-15T09:52:29.895349Z",
     "start_time": "2020-07-15T09:52:29.887349Z"
    }
   },
   "outputs": [
    {
     "name": "stdout",
     "output_type": "stream",
     "text": [
      "100\n"
     ]
    }
   ],
   "source": [
    "x = 2\n",
    "if x>5:\n",
    "    print('x is great')\n",
    "else:\n",
    "    x=100    \n",
    "    print(x)"
   ]
  },
  {
   "cell_type": "code",
   "execution_count": 11,
   "metadata": {
    "ExecuteTime": {
     "end_time": "2020-07-15T10:23:24.758643Z",
     "start_time": "2020-07-15T10:23:24.750644Z"
    }
   },
   "outputs": [
    {
     "name": "stdout",
     "output_type": "stream",
     "text": [
      "color1 = green\n"
     ]
    }
   ],
   "source": [
    "colors = ['red','blue','green']\n",
    "\n",
    "color1 = colors[2] # the third string starting with 0 in the colors/whatever number is put here\n",
    "if color1 =='red':\n",
    "    print(f\"color1 = {color1}\")\n",
    "elif color1 == 'blue' :\n",
    "    print(f\"color1 = {color1}\")\n",
    "elif color1 == 'green':\n",
    "    print(f\"color1 = {color1}\")\n",
    "\n",
    "      \n",
    "          \n"
   ]
  },
  {
   "cell_type": "code",
   "execution_count": 20,
   "metadata": {
    "ExecuteTime": {
     "end_time": "2020-07-15T10:32:32.650551Z",
     "start_time": "2020-07-15T10:32:32.638555Z"
    }
   },
   "outputs": [
    {
     "data": {
      "text/plain": [
       "100"
      ]
     },
     "execution_count": 20,
     "metadata": {},
     "output_type": "execute_result"
    }
   ],
   "source": [
    "number_50 = 151\n",
    "my_number = None\n",
    "if number_50 > 100:\n",
    "    my_number = 100 # my_number which is a variable equals to 100\n",
    "    # if number_50 is greater than 100, assign the `my_number` variable to the number 100\n",
    "elif number_50 > 50:\n",
    "    my_number = 50 # my number which is a variable equals to 100\n",
    "    # if number_50 is greater than 50, assign the `my_number` variable to the number 50\n",
    "else:\n",
    "    my_number = 0\n",
    "    # else assign the `my_number` variable to 0\n",
    "my_number"
   ]
  },
  {
   "cell_type": "markdown",
   "metadata": {},
   "source": [
    "Below, use conditionals to tell whether it is hot outside or not. If it is hot, assign the string `\"It is so hot out!\"` to the variable `is_it_hot`. If it is not hot, assign the string `\"This is nothing! Bring on the heat.\"`. For our purposes, anything over `80` degrees is considered hot."
   ]
  },
  {
   "cell_type": "code",
   "execution_count": 24,
   "metadata": {
    "ExecuteTime": {
     "end_time": "2020-07-15T10:44:08.751132Z",
     "start_time": "2020-07-15T10:44:08.743136Z"
    }
   },
   "outputs": [
    {
     "data": {
      "text/plain": [
       "'This is nothing! Bring on the heat.'"
      ]
     },
     "execution_count": 24,
     "metadata": {},
     "output_type": "execute_result"
    }
   ],
   "source": [
    "temperature = 60\n",
    "is_it_hot = None\n",
    "if temperature > 80:\n",
    "    is_it_hot = (\"It is so hot out\")\n",
    "elif temperature < 80:\n",
    "    is_it_hot = (\"This is nothing! Bring on the heat.\")\n",
    "is_it_hot\n",
    "\n",
    "# conditionals go here"
   ]
  },
  {
   "cell_type": "code",
   "execution_count": 26,
   "metadata": {
    "ExecuteTime": {
     "end_time": "2020-07-15T10:46:49.333976Z",
     "start_time": "2020-07-15T10:46:49.317056Z"
    }
   },
   "outputs": [
    {
     "data": {
      "text/plain": [
       "'This is nothing! Bring on the heat.'"
      ]
     },
     "execution_count": 26,
     "metadata": {},
     "output_type": "execute_result"
    }
   ],
   "source": [
    "# one more way to do it\n",
    "temperature = 60\n",
    "is_it_hot = None\n",
    "if temperature > 80:\n",
    "    is_it_hot = (\"It is so hot out\")\n",
    "else:\n",
    "    is_it_hot = (\"This is nothing! Bring on the heat.\")\n",
    "is_it_hot"
   ]
  },
  {
   "cell_type": "markdown",
   "metadata": {},
   "source": [
    "Next, let's see what day of the week it is. There are 7 days in the week starting with Sunday at day `1` and ending with Saturday at day `7`. Use conditional statements to assign the day of the week to the variable `day_of_the_week` based on the number below assigned to the variable `today_is`.\n",
    "For example, if the day is `2`, we would assign `day_of_the_week` the value `\"Monday\"`."
   ]
  },
  {
   "cell_type": "code",
   "execution_count": 32,
   "metadata": {
    "ExecuteTime": {
     "end_time": "2020-07-15T11:23:18.293238Z",
     "start_time": "2020-07-15T11:23:18.285243Z"
    }
   },
   "outputs": [
    {
     "data": {
      "text/plain": [
       "'Today is Saturday'"
      ]
     },
     "execution_count": 32,
     "metadata": {},
     "output_type": "execute_result"
    }
   ],
   "source": [
    "today_is = 7\n",
    "day_of_the_week = None\n",
    "if today_is == 1:\n",
    "    day_of_the_week = \"Today is Sunday\"\n",
    "elif today_is == 2:\n",
    "    day_of_the_week = \"Today is Monday\"\n",
    "elif today_is == 3:\n",
    "    day_of_the_week = \"Today is Tueaday\"\n",
    "elif today_is == 4:\n",
    "    day_of_the_week = \"Today is Wednesday\"\n",
    "elif today_is == 5:\n",
    "    day_of_the_week = \"Today is Thursday\"\n",
    "elif today_is == 6:\n",
    "    day_of_the_week = \"Today is Friday\"\n",
    "elif today_is == 7:\n",
    "    day_of_the_week = \"Today is Saturday\"\n",
    "day_of_the_week\n",
    "\n",
    "# conditionals go here"
   ]
  },
  {
   "cell_type": "markdown",
   "metadata": {},
   "source": [
    "Finally, let's take a string and see if it ends with a certain substring. If it does, assign the variable `ends_with` to `True`, and if it does not, assign it to `False`. For example, if have the string \"School\" and we want to know if it ends with the sub-string \"cool\". In this case it does not, so, we would assign `False` to the variable `ends_with`. "
   ]
  },
  {
   "cell_type": "code",
   "execution_count": 35,
   "metadata": {
    "ExecuteTime": {
     "end_time": "2020-07-15T11:27:54.239364Z",
     "start_time": "2020-07-15T11:27:54.233369Z"
    }
   },
   "outputs": [
    {
     "data": {
      "text/plain": [
       "False"
      ]
     },
     "execution_count": 35,
     "metadata": {},
     "output_type": "execute_result"
    }
   ],
   "source": [
    "string = \"Python\"\n",
    "sub_string = \"one\"\n",
    "ends_with = string.endswith(sub_string)\n",
    "ends_with\n",
    "# conditionals go here"
   ]
  },
  {
   "cell_type": "code",
   "execution_count": 36,
   "metadata": {
    "ExecuteTime": {
     "end_time": "2020-07-15T11:28:17.773608Z",
     "start_time": "2020-07-15T11:28:17.767617Z"
    }
   },
   "outputs": [
    {
     "data": {
      "text/plain": [
       "True"
      ]
     },
     "execution_count": 36,
     "metadata": {},
     "output_type": "execute_result"
    }
   ],
   "source": [
    "string = \"Python\"\n",
    "sub_string = \"on\"\n",
    "ends_with = string.endswith(sub_string)\n",
    "ends_with\n",
    "# conditionals go here\n",
    "# when u change the sub_string the results will be True or False"
   ]
  },
  {
   "cell_type": "markdown",
   "metadata": {},
   "source": [
    "## Summary\n",
    "\n",
    "Great! In this lab we saw how to use our knowedge of conditionals to selectively assign values based on a condition. We will start integrating conditionals in many more ways in our code and we will start to see how useful they can become in more complex problems."
   ]
  }
 ],
 "metadata": {
  "kernelspec": {
   "display_name": "Python 3",
   "language": "python",
   "name": "python3"
  },
  "language_info": {
   "codemirror_mode": {
    "name": "ipython",
    "version": 3
   },
   "file_extension": ".py",
   "mimetype": "text/x-python",
   "name": "python",
   "nbconvert_exporter": "python",
   "pygments_lexer": "ipython3",
   "version": "3.6.9"
  },
  "toc": {
   "base_numbering": 1,
   "nav_menu": {},
   "number_sections": true,
   "sideBar": true,
   "skip_h1_title": false,
   "title_cell": "Table of Contents",
   "title_sidebar": "Contents",
   "toc_cell": false,
   "toc_position": {},
   "toc_section_display": true,
   "toc_window_display": false
  },
  "varInspector": {
   "cols": {
    "lenName": 16,
    "lenType": 16,
    "lenVar": 40
   },
   "kernels_config": {
    "python": {
     "delete_cmd_postfix": "",
     "delete_cmd_prefix": "del ",
     "library": "var_list.py",
     "varRefreshCmd": "print(var_dic_list())"
    },
    "r": {
     "delete_cmd_postfix": ") ",
     "delete_cmd_prefix": "rm(",
     "library": "var_list.r",
     "varRefreshCmd": "cat(var_dic_list()) "
    }
   },
   "types_to_exclude": [
    "module",
    "function",
    "builtin_function_or_method",
    "instance",
    "_Feature"
   ],
   "window_display": false
  }
 },
 "nbformat": 4,
 "nbformat_minor": 2
}
